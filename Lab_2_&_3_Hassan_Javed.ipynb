{
  "nbformat": 4,
  "nbformat_minor": 0,
  "metadata": {
    "colab": {
      "provenance": [],
      "authorship_tag": "ABX9TyNzFmBwC1ov7pdQmFVQPt06",
      "include_colab_link": true
    },
    "kernelspec": {
      "name": "python3",
      "display_name": "Python 3"
    },
    "language_info": {
      "name": "python"
    }
  },
  "cells": [
    {
      "cell_type": "markdown",
      "metadata": {
        "id": "view-in-github",
        "colab_type": "text"
      },
      "source": [
        "<a href=\"https://colab.research.google.com/github/Hassanjaved2/Lab-1/blob/main/Lab_2_%26_3_Hassan_Javed.ipynb\" target=\"_parent\"><img src=\"https://colab.research.google.com/assets/colab-badge.svg\" alt=\"Open In Colab\"/></a>"
      ]
    },
    {
      "cell_type": "markdown",
      "source": [
        "1.\tPrint at least 5 types of data type"
      ],
      "metadata": {
        "id": "feSG8H1GA7Ns"
      }
    },
    {
      "cell_type": "code",
      "source": [
        "a=5\n",
        "print(a)\n",
        "print(type(a))                   #Integer\n",
        "\n",
        "b=7\n",
        "print(b)\n",
        "print(type(b))                   #Integer\n",
        "\n",
        "c=9\n",
        "print(c)\n",
        "print(type(c))                  #Integer\n",
        "\n",
        "d=1\n",
        "print(d)\n",
        "print(type(d))                  #Integer\n",
        "\n",
        "e=6\n",
        "print(e)\n",
        "print(type(e))                  #Integer\n",
        "\n",
        "q=2+3j\n",
        "print(q)\n",
        "print(type(q))                 #Complex\n",
        "\n",
        "i=1+2j\n",
        "print(i)\n",
        "print(type(i))                 #Complex\n",
        "\n",
        "l=5+2j\n",
        "print(l)\n",
        "print(type(l))                 #Complex\n",
        "\n",
        "h=1+0j\n",
        "print(h)\n",
        "print(type(h))                #Complex\n",
        "\n",
        "s=3+8j\n",
        "print(s)\n",
        "print(type(s))                 #Complex\n",
        "\n",
        "f=3.14\n",
        "print(f)\n",
        "print (type(f))               #Float\n",
        "\n",
        "k=2.13\n",
        "print(k)\n",
        "print (type(k))                #Float\n",
        "\n",
        "a=1.98\n",
        "print(a)\n",
        "print (type(a))                #Float\n",
        "\n",
        "m=9.21\n",
        "print(m)\n",
        "print (type(m))                #Float\n",
        "\n",
        "j=2.22\n",
        "print(j)\n",
        "print (type(j))                 #Float\n",
        "\n"
      ],
      "metadata": {
        "colab": {
          "base_uri": "https://localhost:8080/"
        },
        "id": "HYg7AYDdBKjg",
        "outputId": "852e8c40-976f-4d13-c280-a00a94dd8ed1"
      },
      "execution_count": 21,
      "outputs": [
        {
          "output_type": "stream",
          "name": "stdout",
          "text": [
            "5\n",
            "<class 'int'>\n",
            "7\n",
            "<class 'int'>\n",
            "9\n",
            "<class 'int'>\n",
            "1\n",
            "<class 'int'>\n",
            "6\n",
            "<class 'int'>\n",
            "(2+3j)\n",
            "<class 'complex'>\n",
            "(1+2j)\n",
            "<class 'complex'>\n",
            "(5+2j)\n",
            "<class 'complex'>\n",
            "(1+0j)\n",
            "<class 'complex'>\n",
            "(3+8j)\n",
            "<class 'complex'>\n",
            "3.14\n",
            "<class 'float'>\n",
            "2.13\n",
            "<class 'float'>\n",
            "1.98\n",
            "<class 'float'>\n",
            "9.21\n",
            "<class 'float'>\n",
            "2.22\n",
            "<class 'float'>\n"
          ]
        }
      ]
    },
    {
      "cell_type": "markdown",
      "source": [
        "Example of type conversion for each (minimum 3):"
      ],
      "metadata": {
        "id": "BINDp3LMEahw"
      }
    },
    {
      "cell_type": "code",
      "source": [
        "# Integer to float\n",
        "integer_number = 10\n",
        "float_number = float(integer_number)\n",
        "print(float_number)\n",
        "\n",
        "# Float to integer\n",
        "float_number = 3.14\n",
        "integer_number = int(float_number)\n",
        "print(integer_number)\n",
        "\n",
        "# Complex to string\n",
        "complex_number = 2+4j\n",
        "string_number = str(complex_number)\n",
        "print(string_number)"
      ],
      "metadata": {
        "id": "7LCUSF1eEik9",
        "outputId": "c424f186-4399-4eed-e546-d6d1135f3973",
        "colab": {
          "base_uri": "https://localhost:8080/"
        }
      },
      "execution_count": 12,
      "outputs": [
        {
          "output_type": "stream",
          "name": "stdout",
          "text": [
            "10.0\n",
            "3\n",
            "(2+4j)\n"
          ]
        }
      ]
    },
    {
      "cell_type": "markdown",
      "source": [
        "3.\tAssign multiple strings to single variable with your name , registration number, program , semester etc"
      ],
      "metadata": {
        "id": "JQp8nfZwGXAF"
      }
    },
    {
      "cell_type": "code",
      "source": [
        "information = \"Name: Hassan Javed, Reg. No: B21F0380AI042, Program: Artificial Intelligence, Semester: Fall 2021\"\n",
        "print(information)\n"
      ],
      "metadata": {
        "id": "5wT9_dXlGYEq",
        "outputId": "4d2eda4e-4182-4dac-8687-be5b494bcc66",
        "colab": {
          "base_uri": "https://localhost:8080/"
        }
      },
      "execution_count": 20,
      "outputs": [
        {
          "output_type": "stream",
          "name": "stdout",
          "text": [
            "Name: Hassan Javed, Reg. No: B21F0380AI042, Program: Artificial Intelligence, Semester: Fall 2021\n"
          ]
        }
      ]
    },
    {
      "cell_type": "markdown",
      "source": [
        "4.\tWrite Your country name and access the last 3 characters"
      ],
      "metadata": {
        "id": "EJj3HsZoGlc4"
      }
    },
    {
      "cell_type": "code",
      "source": [
        "country = \"Pakistan\"\n",
        "last_three_chars = country[-3:]\n",
        "print(last_three_chars)"
      ],
      "metadata": {
        "id": "JHPGxjQ_GoSW",
        "outputId": "e044f61e-875c-434c-ff00-1409dc9d1745",
        "colab": {
          "base_uri": "https://localhost:8080/"
        }
      },
      "execution_count": 14,
      "outputs": [
        {
          "output_type": "stream",
          "name": "stdout",
          "text": [
            "tan\n"
          ]
        }
      ]
    },
    {
      "cell_type": "markdown",
      "source": [
        "5.\tWrite code and observe using len() function it count space or not."
      ],
      "metadata": {
        "id": "p-ZrEeHKGwgw"
      }
    },
    {
      "cell_type": "code",
      "source": [
        "text = \"Hello World\"\n",
        "print(len(text))"
      ],
      "metadata": {
        "id": "xO1FSy-WGzCW",
        "outputId": "84bf7bd9-9d7c-44cb-d76f-81002d52c3d3",
        "colab": {
          "base_uri": "https://localhost:8080/"
        }
      },
      "execution_count": 15,
      "outputs": [
        {
          "output_type": "stream",
          "name": "stdout",
          "text": [
            "11\n"
          ]
        }
      ]
    },
    {
      "cell_type": "markdown",
      "source": [
        "6.\tWrite code to access the 2nd and 3rd character of your name using negative indexes."
      ],
      "metadata": {
        "id": "IDAOEpT2G3uz"
      }
    },
    {
      "cell_type": "code",
      "source": [
        "name = \"Hassan Javed\"\n",
        "second_char = name[-4]  # Second character\n",
        "third_char = name[-3]   # Third character\n",
        "print(second_char, third_char)"
      ],
      "metadata": {
        "id": "2paD4-N-G61U",
        "outputId": "2925ed9f-e025-4a46-9894-807bd7079626",
        "colab": {
          "base_uri": "https://localhost:8080/"
        }
      },
      "execution_count": 16,
      "outputs": [
        {
          "output_type": "stream",
          "name": "stdout",
          "text": [
            "a v\n"
          ]
        }
      ]
    },
    {
      "cell_type": "markdown",
      "source": [
        "7.\tWrite python code in which you pass index number to format() function and arguments must be 4 and same code without indexes."
      ],
      "metadata": {
        "id": "sKN_GC3sHFoo"
      }
    },
    {
      "cell_type": "code",
      "source": [
        "# With indexes\n",
        "text = \"My name is {0} and I am {1} years old.\"\n",
        "formatted_text = text.format(\"Hassan\", 22)\n",
        "print(formatted_text)\n",
        "\n",
        "# Without indexes\n",
        "text = \"My name is {} and I am {} years old.\"\n",
        "formatted_text = text.format(\"Hassan\", 22)\n",
        "print(formatted_text)"
      ],
      "metadata": {
        "id": "I4P3hP-LHIM0",
        "outputId": "f506c4a2-fdb8-407a-be9d-c8af5a83713f",
        "colab": {
          "base_uri": "https://localhost:8080/"
        }
      },
      "execution_count": 19,
      "outputs": [
        {
          "output_type": "stream",
          "name": "stdout",
          "text": [
            "My name is Hassan and I am 22 years old.\n",
            "My name is Hassan and I am 22 years old.\n"
          ]
        }
      ]
    },
    {
      "cell_type": "markdown",
      "source": [
        "8.\tTake input from user and  than display it like “John age is: age”"
      ],
      "metadata": {
        "id": "r-POUt6oHPE5"
      }
    },
    {
      "cell_type": "code",
      "source": [
        "name = input(\"Enter your name: \")\n",
        "age = input(\"Enter your age: \")\n",
        "print(f\"{name}'s age is: {age}\")"
      ],
      "metadata": {
        "id": "iqu_IMoHHT5I",
        "outputId": "3d6ce44a-2eec-4f52-f21e-baf0cecc9cd3",
        "colab": {
          "base_uri": "https://localhost:8080/"
        }
      },
      "execution_count": 18,
      "outputs": [
        {
          "output_type": "stream",
          "name": "stdout",
          "text": [
            "Enter your name: Hassan Javed\n",
            "Enter your age: 22\n",
            "Hassan Javed's age is: 22\n"
          ]
        }
      ]
    }
  ]
}