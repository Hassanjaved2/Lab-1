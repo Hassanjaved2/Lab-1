{
  "nbformat": 4,
  "nbformat_minor": 0,
  "metadata": {
    "colab": {
      "provenance": [],
      "authorship_tag": "ABX9TyPdH0HVh5C9O++GhYGzb66n",
      "include_colab_link": true
    },
    "kernelspec": {
      "name": "python3",
      "display_name": "Python 3"
    },
    "language_info": {
      "name": "python"
    }
  },
  "cells": [
    {
      "cell_type": "markdown",
      "metadata": {
        "id": "view-in-github",
        "colab_type": "text"
      },
      "source": [
        "<a href=\"https://colab.research.google.com/github/Hassanjaved2/programming-for-AI/blob/main/lab_3.ipynb\" target=\"_parent\"><img src=\"https://colab.research.google.com/assets/colab-badge.svg\" alt=\"Open In Colab\"/></a>"
      ]
    },
    {
      "cell_type": "markdown",
      "source": [
        "1. Access List Items\n",
        "   \n",
        "   •\tCreate a list of fruits.\n",
        "  \n",
        "  •\tPrint the first and last items of the list.\n"
      ],
      "metadata": {
        "id": "vogc9uUm27dH"
      }
    },
    {
      "cell_type": "code",
      "source": [
        "fruits = [\"apple\", \"banana\", \"cherry\", \"date\", \"mango\"]\n",
        "print(\"First item:\", fruits[0])\n",
        "print(\"Last item:\", fruits[-1])"
      ],
      "metadata": {
        "colab": {
          "base_uri": "https://localhost:8080/"
        },
        "id": "zHG4YujY29wi",
        "outputId": "caacb49d-48cf-46b7-cfb1-c7639a23a705"
      },
      "execution_count": 17,
      "outputs": [
        {
          "output_type": "stream",
          "name": "stdout",
          "text": [
            "First item: apple\n",
            "Last item: mango\n"
          ]
        }
      ]
    },
    {
      "cell_type": "markdown",
      "source": [
        "2. Change List Items\n",
        "\n",
        "    •\tCreate a list of colors.\n",
        "\n",
        "    •\tChange the second item in the list to \"blue\".\n"
      ],
      "metadata": {
        "id": "_rw1REDK3B9G"
      }
    },
    {
      "cell_type": "code",
      "source": [
        "colors = [\"red\", \"green\", \"yellow\", \"orange\"]\n",
        "colors[1] = \"blue\"\n",
        "print(\"Updated colors:\", colors)"
      ],
      "metadata": {
        "colab": {
          "base_uri": "https://localhost:8080/"
        },
        "id": "9xFwADYW3EHv",
        "outputId": "6b460d49-d724-4845-d811-397c720c63e5"
      },
      "execution_count": 2,
      "outputs": [
        {
          "output_type": "stream",
          "name": "stdout",
          "text": [
            "Updated colors: ['red', 'blue', 'yellow', 'orange']\n"
          ]
        }
      ]
    },
    {
      "cell_type": "markdown",
      "source": [
        "3. Add List Items\n",
        "\n",
        "    •\tCreate a list of numbers.\n",
        "    \n",
        "    • Add the number 10 at the end of the list.\n"
      ],
      "metadata": {
        "id": "UkxfPEBx3GUv"
      }
    },
    {
      "cell_type": "code",
      "source": [
        "numbers = [1, 2, 3, 4, 5]\n",
        "numbers.append(10)\n",
        "print(\"Updated numbers:\", numbers)\n"
      ],
      "metadata": {
        "colab": {
          "base_uri": "https://localhost:8080/"
        },
        "id": "ilvnOLv53LD3",
        "outputId": "0ad4e7fb-f046-4d4a-f751-0d0dadebf7cc"
      },
      "execution_count": 3,
      "outputs": [
        {
          "output_type": "stream",
          "name": "stdout",
          "text": [
            "Updated numbers: [1, 2, 3, 4, 5, 10]\n"
          ]
        }
      ]
    },
    {
      "cell_type": "markdown",
      "source": [
        "4. Remove List Items\n",
        "\n",
        "   •\tCreate a list of animals.\n",
        "   \n",
        "   •\tRemove the third item from the list.\n"
      ],
      "metadata": {
        "id": "VrS3748r3Nw2"
      }
    },
    {
      "cell_type": "code",
      "source": [
        "animals = [\"dog\", \"cat\", \"rabbit\", \"lion\"]\n",
        "del animals[2]\n",
        "print(\"Updated animals:\", animals)"
      ],
      "metadata": {
        "colab": {
          "base_uri": "https://localhost:8080/"
        },
        "id": "rAAS1dBW3Pm6",
        "outputId": "3896af4a-5ea8-4007-ce9b-52b7cef3087a"
      },
      "execution_count": 18,
      "outputs": [
        {
          "output_type": "stream",
          "name": "stdout",
          "text": [
            "Updated animals: ['dog', 'cat', 'lion']\n"
          ]
        }
      ]
    },
    {
      "cell_type": "markdown",
      "source": [
        "5. Loop Lists\n",
        "\n",
        "     •\tCreate a list of cities.\n",
        "     \n",
        "     •\tLoop through the list and print each city.\n"
      ],
      "metadata": {
        "id": "FtEBM5QD3S7e"
      }
    },
    {
      "cell_type": "code",
      "source": [
        "cities = [\"Haripur\", \"Islamabad\", \"Abbottabad\", \"Peshawar\"]\n",
        "for city in cities:\n",
        "    print(city)"
      ],
      "metadata": {
        "colab": {
          "base_uri": "https://localhost:8080/"
        },
        "id": "9e7mQoBa3VDd",
        "outputId": "5295b6d1-5a5a-4758-960d-352452873a66"
      },
      "execution_count": 19,
      "outputs": [
        {
          "output_type": "stream",
          "name": "stdout",
          "text": [
            "Haripur\n",
            "Islamabad\n",
            "Abbottabad\n",
            "Peshawar\n"
          ]
        }
      ]
    },
    {
      "cell_type": "markdown",
      "source": [
        "6. List Comprehension\n",
        "\n",
        "     •\tCreate a list of numbers from 1 to 10.\n",
        "     \n",
        "     •\tUse list comprehension to create a new list containing the square of each number.\n",
        "\n"
      ],
      "metadata": {
        "id": "tidpEdHp3aXm"
      }
    },
    {
      "cell_type": "code",
      "source": [
        "numbers = [i for i in range(1, 11)]\n",
        "squared_numbers = [num ** 2 for num in numbers]\n",
        "print(\"Squared numbers:\", squared_numbers)"
      ],
      "metadata": {
        "colab": {
          "base_uri": "https://localhost:8080/"
        },
        "id": "A2vrf6Dr3cUt",
        "outputId": "8ddf43a4-4f3d-4a73-df87-b68d13db8832"
      },
      "execution_count": 6,
      "outputs": [
        {
          "output_type": "stream",
          "name": "stdout",
          "text": [
            "Squared numbers: [1, 4, 9, 16, 25, 36, 49, 64, 81, 100]\n"
          ]
        }
      ]
    },
    {
      "cell_type": "markdown",
      "source": [
        "7. Sort Lists\n",
        "       \n",
        "        •\tCreate a list of names.\n",
        "        \n",
        "        •\tSort the list alphabetically.\n"
      ],
      "metadata": {
        "id": "T-PMhQP83ekO"
      }
    },
    {
      "cell_type": "code",
      "source": [
        "names = [\"Hassan\", \"Ali\", \"Hamza\", \"Shoukat\",\"Haseeb\" ]\n",
        "names.sort()\n",
        "print(\"Sorted Names:\",names)"
      ],
      "metadata": {
        "colab": {
          "base_uri": "https://localhost:8080/"
        },
        "id": "TqH2Y5AK3gSe",
        "outputId": "7f06ae74-be27-4276-8a8b-d9d84a533792"
      },
      "execution_count": 16,
      "outputs": [
        {
          "output_type": "stream",
          "name": "stdout",
          "text": [
            "Sorted Names: ['Ali', 'Hamza', 'Haseeb', 'Hassan', 'Shoukat']\n"
          ]
        }
      ]
    },
    {
      "cell_type": "markdown",
      "source": [
        "8. Copy Lists\n",
        "\n",
        "      •\tCreate a list of fruits.\n",
        "      \n",
        "      •\tCopy the list into a new list.\n"
      ],
      "metadata": {
        "id": "NXLuaDM23im3"
      }
    },
    {
      "cell_type": "code",
      "source": [
        "fruits = [\"apple\", \"banana\", \"cherry\"]\n",
        "fruits_copy = fruits.copy()\n",
        "print(\"Copied list of fruits:\", fruits_copy)"
      ],
      "metadata": {
        "colab": {
          "base_uri": "https://localhost:8080/"
        },
        "id": "p_jT1moV3kEf",
        "outputId": "af2b0145-75fe-4b74-e4fc-b46c40d9ed76"
      },
      "execution_count": 8,
      "outputs": [
        {
          "output_type": "stream",
          "name": "stdout",
          "text": [
            "Copied list of fruits: ['apple', 'banana', 'cherry']\n"
          ]
        }
      ]
    },
    {
      "cell_type": "markdown",
      "source": [
        "9. Join Lists\n",
        "\n",
        "      •\tCreate two lists of numbers.\n",
        "      \n",
        "      •\tJoin the two lists into a single list.\n"
      ],
      "metadata": {
        "id": "8GbcEDd43mnO"
      }
    },
    {
      "cell_type": "code",
      "source": [
        "list1 = [1, 2, 3]\n",
        "list2 = [4, 5, 6]\n",
        "joined_list = list1 + list2\n",
        "print(\"Joined list:\", joined_list)"
      ],
      "metadata": {
        "colab": {
          "base_uri": "https://localhost:8080/"
        },
        "id": "ul_4tIla3ow3",
        "outputId": "6858e97a-577e-478e-c20a-d6b727fd2789"
      },
      "execution_count": 9,
      "outputs": [
        {
          "output_type": "stream",
          "name": "stdout",
          "text": [
            "Joined list: [1, 2, 3, 4, 5, 6]\n"
          ]
        }
      ]
    },
    {
      "cell_type": "markdown",
      "source": [
        "10. List Methods\n",
        "\n",
        "      •\tCreate a list of fruits.\n",
        "      \n",
        "      •\tUse the append() method to add a new fruit to the list.\n",
        "      \n",
        "      •\tUse the pop() method to remove the last fruit from the list.\n"
      ],
      "metadata": {
        "id": "VT_Vkrtg3s4e"
      }
    },
    {
      "cell_type": "code",
      "source": [
        "fruits = [\"apple\", \"banana\", \"cherry\"]\n",
        "fruits.append(\"date\")\n",
        "print(\"Fruits after append:\", fruits)\n",
        "fruits.pop()\n",
        "print(\"Fruits after pop:\", fruits)"
      ],
      "metadata": {
        "colab": {
          "base_uri": "https://localhost:8080/"
        },
        "id": "cMsdM5yN3tkQ",
        "outputId": "efd02c61-c773-451b-99d7-7c3e846fd49d"
      },
      "execution_count": 10,
      "outputs": [
        {
          "output_type": "stream",
          "name": "stdout",
          "text": [
            "Fruits after append: ['apple', 'banana', 'cherry', 'date']\n",
            "Fruits after pop: ['apple', 'banana', 'cherry']\n"
          ]
        }
      ]
    },
    {
      "cell_type": "markdown",
      "source": [
        "11. Combining Lists and List Comprehension\n",
        "\n",
        "     •\tCreate two lists, one containing numbers from 1 to 5 and another containing numbers from 6 to 10.\n",
        "     \n",
        "     •\tUse list comprehension to create a new list that contains the sum of corresponding elements from the two lists.\n"
      ],
      "metadata": {
        "id": "tdUunhfA3xkt"
      }
    },
    {
      "cell_type": "code",
      "source": [
        "list1 = [1, 2, 3, 4, 5]\n",
        "list2 = [6, 7, 8, 9, 10]\n",
        "sum_list = [x + y for x, y in zip(list1, list2)]\n",
        "print(\"Sum of corresponding elements:\", sum_list)"
      ],
      "metadata": {
        "colab": {
          "base_uri": "https://localhost:8080/"
        },
        "id": "BU1AqtUv3yNm",
        "outputId": "6338dc7c-ed4d-46ed-ad9a-67edb6ca5a7e"
      },
      "execution_count": 11,
      "outputs": [
        {
          "output_type": "stream",
          "name": "stdout",
          "text": [
            "Sum of corresponding elements: [7, 9, 11, 13, 15]\n"
          ]
        }
      ]
    },
    {
      "cell_type": "markdown",
      "source": [
        "12. Filtering and Sorting\n",
        "\n",
        "     Create a list of numbers.\n",
        "     \n",
        "     • Use list comprehension to create a new list containing only the even numbers from the original list.\n",
        "     \n",
        "     • Sort the new list in descending order.\n"
      ],
      "metadata": {
        "id": "Zx5hsza230ge"
      }
    },
    {
      "cell_type": "code",
      "source": [
        "numbers = [23, 14, 56, 8, 12, 47, 9, 30]\n",
        "even_numbers = [num for num in numbers if num % 2 == 0]\n",
        "even_numbers.sort(reverse=True)\n",
        "print(\"Sorted even numbers in descending order:\", even_numbers)"
      ],
      "metadata": {
        "colab": {
          "base_uri": "https://localhost:8080/"
        },
        "id": "eM_c0_zF32Yf",
        "outputId": "d6606413-4cb1-4bd0-acfe-958d7af560f1"
      },
      "execution_count": 12,
      "outputs": [
        {
          "output_type": "stream",
          "name": "stdout",
          "text": [
            "Sorted even numbers in descending order: [56, 30, 14, 12, 8]\n"
          ]
        }
      ]
    },
    {
      "cell_type": "markdown",
      "source": [
        "13. List Slicing and Reversing\n",
        "\n",
        "     •\tCreate a list of numbers from 1 to 10.\n",
        "     \n",
        "     •\tUse list slicing to create a new list containing only the even numbers from the original list, in reverse order.\n"
      ],
      "metadata": {
        "id": "PkFuBuwb3511"
      }
    },
    {
      "cell_type": "code",
      "source": [
        "numbers = [1, 2, 3, 4, 5, 6, 7, 8, 9, 10]\n",
        "even_numbers_reverse = numbers[1::2][::-1]\n",
        "print(\"Even numbers in reverse order:\", even_numbers_reverse)"
      ],
      "metadata": {
        "colab": {
          "base_uri": "https://localhost:8080/"
        },
        "id": "KRU28UzZ37h1",
        "outputId": "5705d2f6-ffce-427f-e177-ad3c7de94e7d"
      },
      "execution_count": 13,
      "outputs": [
        {
          "output_type": "stream",
          "name": "stdout",
          "text": [
            "Even numbers in reverse order: [10, 8, 6, 4, 2]\n"
          ]
        }
      ]
    },
    {
      "cell_type": "markdown",
      "source": [
        " 14. Combining Lists and List Methods\n",
        "\n",
        "     •\tCreate two lists, one containing even numbers and another containing odd numbers.\n",
        "     \n",
        "     •\tUse list methods to combine the two lists into a single list, alternating between even and odd numbers.\n"
      ],
      "metadata": {
        "id": "p-zP7FgK3-1N"
      }
    },
    {
      "cell_type": "code",
      "source": [
        "even_numbers = [2, 4, 6, 8, 10]\n",
        "odd_numbers = [1, 3, 5, 7, 9]\n",
        "combined_list = []\n",
        "for even, odd in zip(even_numbers, odd_numbers):\n",
        "    combined_list.append(even)\n",
        "    combined_list.append(odd)\n",
        "print(\"Combined list:\", combined_list)"
      ],
      "metadata": {
        "colab": {
          "base_uri": "https://localhost:8080/"
        },
        "id": "TqOhH0eD4BAN",
        "outputId": "77a43d0c-72c5-4172-a091-3d00a84893e1"
      },
      "execution_count": 14,
      "outputs": [
        {
          "output_type": "stream",
          "name": "stdout",
          "text": [
            "Combined list: [2, 1, 4, 3, 6, 5, 8, 7, 10, 9]\n"
          ]
        }
      ]
    }
  ]
}